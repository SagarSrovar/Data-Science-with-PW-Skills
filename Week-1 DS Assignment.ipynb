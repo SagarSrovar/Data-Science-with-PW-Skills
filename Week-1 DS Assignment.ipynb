{
 "cells": [
  {
   "cell_type": "code",
   "execution_count": 33,
   "id": "a455cc72-9a96-45fb-bb7f-49ae336ae34e",
   "metadata": {},
   "outputs": [
    {
     "name": "stdout",
     "output_type": "stream",
     "text": [
      "pw skills\n",
      "[1, 2, 3, 4, 'phone', 'TV', 'computer']\n",
      "3.14\n",
      "(9, 8, 7, 'Nepal', 'India', 'China')\n"
     ]
    }
   ],
   "source": [
    "#Q1.\n",
    "#1\n",
    "A=(\"pw skills\")\n",
    "print(A)\n",
    "\n",
    "\n",
    "#2\n",
    "B=[1,2,3,4,\"phone\",\"TV\",\"computer\"]\n",
    "print(B)\n",
    "\n",
    "\n",
    "#3\n",
    "Float= 3.14\n",
    "print(Float)\n",
    "\n",
    "\n",
    "t=(9,8,7,\"Nepal\",\"India\",\"China\")\n",
    "print(t)\n"
   ]
  },
  {
   "cell_type": "code",
   "execution_count": 34,
   "id": "4e5cf247-3046-482b-a8ec-87a04dc98dbb",
   "metadata": {},
   "outputs": [
    {
     "data": {
      "text/plain": [
       "str"
      ]
     },
     "execution_count": 34,
     "metadata": {},
     "output_type": "execute_result"
    }
   ],
   "source": [
    "#Q2.\n",
    "\n",
    "#1.\n",
    "var1=''\n",
    "type(var1)"
   ]
  },
  {
   "cell_type": "code",
   "execution_count": 36,
   "id": "7c525a04-8fb1-40c3-9999-e364c972d9d5",
   "metadata": {},
   "outputs": [
    {
     "data": {
      "text/plain": [
       "str"
      ]
     },
     "execution_count": 36,
     "metadata": {},
     "output_type": "execute_result"
    }
   ],
   "source": [
    "#2\n",
    "var2='[DS,ML,PTYHON]'\n",
    "type(var2)"
   ]
  },
  {
   "cell_type": "code",
   "execution_count": 37,
   "id": "5cd6c552-7455-4e18-aa75-97691bc39368",
   "metadata": {},
   "outputs": [
    {
     "data": {
      "text/plain": [
       "list"
      ]
     },
     "execution_count": 37,
     "metadata": {},
     "output_type": "execute_result"
    }
   ],
   "source": [
    "#3\n",
    "var3=['DS','ML','PYTHON']\n",
    "type(var3)"
   ]
  },
  {
   "cell_type": "code",
   "execution_count": 38,
   "id": "4db87809-29c4-4283-85bd-c652cadcecec",
   "metadata": {},
   "outputs": [
    {
     "data": {
      "text/plain": [
       "int"
      ]
     },
     "execution_count": 38,
     "metadata": {},
     "output_type": "execute_result"
    }
   ],
   "source": [
    "#4\n",
    "var4=1\n",
    "type(var4)"
   ]
  },
  {
   "cell_type": "code",
   "execution_count": 41,
   "id": "03e8ad36-c0e5-4dae-9400-486d5b6e5a1d",
   "metadata": {},
   "outputs": [
    {
     "data": {
      "text/plain": [
       "4.0"
      ]
     },
     "execution_count": 41,
     "metadata": {},
     "output_type": "execute_result"
    }
   ],
   "source": [
    "#Q3\n",
    "\n",
    "#1.\n",
    "\n",
    "12/3\n"
   ]
  },
  {
   "cell_type": "code",
   "execution_count": 40,
   "id": "10b936e7-d693-4753-94e9-69d9bab0b6ac",
   "metadata": {},
   "outputs": [
    {
     "data": {
      "text/plain": [
       "0"
      ]
     },
     "execution_count": 40,
     "metadata": {},
     "output_type": "execute_result"
    }
   ],
   "source": [
    "#2.\n",
    "\n",
    "4%2"
   ]
  },
  {
   "cell_type": "code",
   "execution_count": 45,
   "id": "63e55e8e-f0c3-4a7d-b981-56faff7603c0",
   "metadata": {},
   "outputs": [
    {
     "data": {
      "text/plain": [
       "2"
      ]
     },
     "execution_count": 45,
     "metadata": {},
     "output_type": "execute_result"
    }
   ],
   "source": [
    "#3\n",
    "4//2"
   ]
  },
  {
   "cell_type": "code",
   "execution_count": 46,
   "id": "79fd491b-0e7e-4ddb-bc6b-0c4dd60994ee",
   "metadata": {},
   "outputs": [
    {
     "data": {
      "text/plain": [
       "4"
      ]
     },
     "execution_count": 46,
     "metadata": {},
     "output_type": "execute_result"
    }
   ],
   "source": [
    "#4\n",
    "2**2"
   ]
  },
  {
   "cell_type": "code",
   "execution_count": 1,
   "id": "9564be84-0a62-4bde-8ece-b2a63993f99c",
   "metadata": {},
   "outputs": [
    {
     "name": "stdout",
     "output_type": "stream",
     "text": [
      "1\n",
      "2\n",
      "3\n",
      "4\n",
      "ml\n",
      "DL\n",
      "NLP\n",
      "1.32\n",
      "$\n",
      "#\n"
     ]
    },
    {
     "data": {
      "text/plain": [
       "list"
      ]
     },
     "execution_count": 1,
     "metadata": {},
     "output_type": "execute_result"
    }
   ],
   "source": [
    "#Q4.\n",
    "l=[1,2,3,4,\"ml\",\"DL\",\"NLP\",1.32,\"$\",\"#\"]\n",
    "for i in l:\n",
    "   print(i)\n",
    "type(l)"
   ]
  },
  {
   "cell_type": "code",
   "execution_count": 2,
   "id": "cab0b4e7",
   "metadata": {},
   "outputs": [
    {
     "name": "stdout",
     "output_type": "stream",
     "text": [
      " first number as a:9\n",
      "Second number as b :3\n",
      "a is divisible by b\n"
     ]
    }
   ],
   "source": [
    "#5.\n",
    "A= int (input(\" first number as a:\"))\n",
    "B= int (input(\"Second number as b :\"))\n",
    "i=1\n",
    "while (A,B!=0):\n",
    "  if (A%B)==0:\n",
    "    print(\"a is divisible by b\")\n",
    "  else:\n",
    "    print(\"a is not divisible by b\")\n",
    "  break\n",
    "\n"
   ]
  },
  {
   "cell_type": "code",
   "execution_count": 1,
   "id": "3fb33bb3-fe5e-4f8c-89be-38f957ab585a",
   "metadata": {},
   "outputs": [
    {
     "name": "stdout",
     "output_type": "stream",
     "text": [
      "Element from list is not divisible by 3\n",
      "Element from list is not divisible by 3\n",
      "Element from list is divisible by 3\n",
      "Element from list is not divisible by 3\n",
      "Element from list is not divisible by 3\n",
      "Element from list is divisible by 3\n",
      "Element from list is divisible by 3\n",
      "Element from list is divisible by 3\n",
      "Element from list is not divisible by 3\n",
      "Element from list is divisible by 3\n",
      "Element from list is not divisible by 3\n",
      "Element from list is not divisible by 3\n",
      "Element from list is not divisible by 3\n",
      "Element from list is not divisible by 3\n",
      "Element from list is not divisible by 3\n",
      "Element from list is not divisible by 3\n",
      "Element from list is divisible by 3\n",
      "Element from list is divisible by 3\n",
      "Element from list is not divisible by 3\n",
      "Element from list is not divisible by 3\n",
      "Element from list is not divisible by 3\n",
      "Element from list is not divisible by 3\n",
      "Element from list is not divisible by 3\n",
      "Element from list is divisible by 3\n",
      "Element from list is not divisible by 3\n",
      "Element from list is not divisible by 3\n"
     ]
    }
   ],
   "source": [
    "#Q6\n",
    "l=[2,5,765,445,667,78,9,45,7,9,4,76,565,35,788,335,225,666,88,98,55,353,5,6,77,7]\n",
    "i=1\n",
    "for i in l:\n",
    "    if (i%3)==0:\n",
    "        \n",
    "        print(\"Element from list is divisible by 3\")\n",
    "    else:\n",
    "        print(\"Element from list is not divisible by 3\")\n",
    "    i=i+1\n",
    "    \n"
   ]
  },
  {
   "cell_type": "code",
   "execution_count": null,
   "id": "f7bd9f1a-bc84-49f4-809c-5b7991ebd6cc",
   "metadata": {},
   "outputs": [],
   "source": [
    "#Q7.\n",
    "# Mutable means order can be changed.\n",
    "#Example of mutable\n",
    "\n",
    "l=[1,2,3,\"python\",\"js\",\"c\",\"java\"]\n",
    "\n",
    "l\n"
   ]
  },
  {
   "cell_type": "code",
   "execution_count": null,
   "id": "1ddf1b46",
   "metadata": {},
   "outputs": [],
   "source": [
    "l[-2]"
   ]
  },
  {
   "cell_type": "code",
   "execution_count": null,
   "id": "678b2db2",
   "metadata": {},
   "outputs": [],
   "source": [
    "l[-2]=\"C++\""
   ]
  },
  {
   "cell_type": "code",
   "execution_count": null,
   "id": "e5584efd",
   "metadata": {},
   "outputs": [],
   "source": [
    "l"
   ]
  },
  {
   "cell_type": "code",
   "execution_count": null,
   "id": "0616e232",
   "metadata": {},
   "outputs": [],
   "source": [
    "# Immutable means order can't be changed.\n",
    "\n",
    "l(1, 2, 3, 'python', 'js', 'C++', 'java')"
   ]
  },
  {
   "cell_type": "code",
   "execution_count": 66,
   "id": "30375ac2",
   "metadata": {},
   "outputs": [
    {
     "ename": "TypeError",
     "evalue": "'tuple' object is not callable",
     "output_type": "error",
     "traceback": [
      "\u001b[1;31m---------------------------------------------------------------------------\u001b[0m",
      "\u001b[1;31mTypeError\u001b[0m                                 Traceback (most recent call last)",
      "Cell \u001b[1;32mIn[66], line 1\u001b[0m\n\u001b[1;32m----> 1\u001b[0m \u001b[43ml\u001b[49m\u001b[43m(\u001b[49m\u001b[38;5;241;43m2\u001b[39;49m\u001b[43m)\u001b[49m\n",
      "\u001b[1;31mTypeError\u001b[0m: 'tuple' object is not callable"
     ]
    }
   ],
   "source": [
    "l(2)"
   ]
  },
  {
   "cell_type": "code",
   "execution_count": null,
   "id": "0ce858dc",
   "metadata": {},
   "outputs": [],
   "source": []
  }
 ],
 "metadata": {
  "kernelspec": {
   "display_name": "Python 3 (ipykernel)",
   "language": "python",
   "name": "python3"
  },
  "language_info": {
   "codemirror_mode": {
    "name": "ipython",
    "version": 3
   },
   "file_extension": ".py",
   "mimetype": "text/x-python",
   "name": "python",
   "nbconvert_exporter": "python",
   "pygments_lexer": "ipython3",
   "version": "3.10.9"
  }
 },
 "nbformat": 4,
 "nbformat_minor": 5
}
